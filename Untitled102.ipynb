{
 "cells": [
  {
   "cell_type": "code",
   "execution_count": 11,
   "id": "c8571af7-140c-4f53-a6ba-5f271e3349d1",
   "metadata": {},
   "outputs": [],
   "source": [
    "def findBestMove(board): \n",
    "    bestMove = None\n",
    "    bestVal = float(\"-inf\")\n",
    "    for currentMove in range(len(board)):\n",
    "        if board[currentMove] is None:\n",
    "            board[currentMove] = 'X'\n",
    "            moveVal = minMax(board, 0, False)\n",
    "            board[currentMove] = None\n",
    "            if moveVal > bestVal:\n",
    "                bestVal = moveVal\n",
    "                bestMove = currentMove\n",
    "    return bestMove"
   ]
  },
  {
   "cell_type": "code",
   "execution_count": 12,
   "id": "6eb13be5-150e-4f0f-93c7-0f6920059032",
   "metadata": {},
   "outputs": [],
   "source": [
    "def minMax(board, depth, isMaximizingPlayer): \n",
    "    if isGameOver(board): \n",
    "        return evaluate(board)\n",
    "\n",
    "    if isMaximizingPlayer:\n",
    "        bestVal = float(\"-inf\")\n",
    "        for currentMove in range(len(board)):\n",
    "            if board[currentMove] is None:\n",
    "                board[currentMove] = 'X'\n",
    "                value = minMax(board, depth + 1, False)\n",
    "                board[currentMove] = None\n",
    "                bestVal = max(bestVal, value)\n",
    "        return bestVal\n",
    "    else:\n",
    "        bestVal = float(\"inf\")\n",
    "        for currentMove in range(len(board)):\n",
    "            if board[currentMove] is None:\n",
    "                board[currentMove] = 'O'\n",
    "                value = minMax(board, depth + 1, True)\n",
    "                board[currentMove] = None\n",
    "                bestVal = min(bestVal, value)\n",
    "        return bestVal"
   ]
  },
  {
   "cell_type": "code",
   "execution_count": 13,
   "id": "f2945cbf-df87-423a-8cf0-9ee6e849c5f3",
   "metadata": {},
   "outputs": [],
   "source": [
    "def isMoveLeft(board): \n",
    "    for currentCell in board:\n",
    "        if currentCell is None:\n",
    "            return True\n",
    "    return False"
   ]
  },
  {
   "cell_type": "code",
   "execution_count": 14,
   "id": "cff9d4b9-3319-48e1-ac30-bfd1b8a36a88",
   "metadata": {},
   "outputs": [],
   "source": [
    "def isGameOver(board):\n",
    "    # Check rows, columns, and diagonals for a win\n",
    "    win_conditions = [\n",
    "        [0, 1, 2], [3, 4, 5], [6, 7, 8], \n",
    "        [0, 3, 6], [1, 4, 7], [2, 5, 8], \n",
    "        [0, 4, 8], [2, 4, 6] \n",
    "    ]\n",
    "    \n",
    "    for condition in win_conditions:\n",
    "        if board[condition[0]] == board[condition[1]] == board[condition[2]] and board[condition[0]] is not None:\n",
    "            return True\n",
    "    return not isMoveLeft(board)"
   ]
  },
  {
   "cell_type": "code",
   "execution_count": 15,
   "id": "69b7b36a-d4df-4ea6-878f-abee555b55d8",
   "metadata": {},
   "outputs": [],
   "source": [
    "def evaluate(board):\n",
    "    win_conditions = [\n",
    "        [0, 1, 2], [3, 4, 5], [6, 7, 8], \n",
    "        [0, 3, 6], [1, 4, 7], [2, 5, 8], \n",
    "        [0, 4, 8], [2, 4, 6] \n",
    "    ]\n",
    "    \n",
    "    for condition in win_conditions:\n",
    "        if board[condition[0]] == board[condition[1]] == board[condition[2]] and board[condition[0]] == 'X':\n",
    "            return 10\n",
    "        if board[condition[0]] == board[condition[1]] == board[condition[2]] and board[condition[0]] == 'O':\n",
    "            return -10\n",
    "    \n",
    "    return 0"
   ]
  },
  {
   "cell_type": "code",
   "execution_count": 16,
   "id": "986c5cbe-ad45-4fa5-ab49-082ecbabb582",
   "metadata": {},
   "outputs": [
    {
     "name": "stdout",
     "output_type": "stream",
     "text": [
      "The best move is at index 0\n"
     ]
    }
   ],
   "source": [
    "board = [None, 'X', 'O', 'O', 'X', 'X', 'O', None, None]\n",
    "bestMove = findBestMove(board)\n",
    "print(f\"The best move is at index {bestMove}\")"
   ]
  },
  {
   "cell_type": "code",
   "execution_count": null,
   "id": "c5669d47-5db7-44e0-8157-0f6e47453bf1",
   "metadata": {},
   "outputs": [],
   "source": []
  }
 ],
 "metadata": {
  "kernelspec": {
   "display_name": "Python 3 (ipykernel)",
   "language": "python",
   "name": "python3"
  },
  "language_info": {
   "codemirror_mode": {
    "name": "ipython",
    "version": 3
   },
   "file_extension": ".py",
   "mimetype": "text/x-python",
   "name": "python",
   "nbconvert_exporter": "python",
   "pygments_lexer": "ipython3",
   "version": "3.11.7"
  }
 },
 "nbformat": 4,
 "nbformat_minor": 5
}
